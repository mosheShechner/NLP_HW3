{
 "cells": [
  {
   "cell_type": "markdown",
   "metadata": {},
   "source": [
    "# <font color='blue'>Question 1 - manual construction of CFG</font>"
   ]
  },
  {
   "cell_type": "markdown",
   "metadata": {},
   "source": [
    "---"
   ]
  },
  {
   "cell_type": "markdown",
   "metadata": {},
   "source": [
    "### Introduction\n",
    "Syntactic parsing is an NLP task that sets it's goal to parse a language sentence to its syntactic parts; <br>\n",
    "A common method to generate a sentence segmentation to it's syntactic parts is via construction of context free grammer that cpature the language rules; We note that a natural language is not context free, therefore a context free grammer (that is not very large) cannot capture all the behaviours, but we may construct a gradually increasing set of CFG grammer rules that will incresingly capture more and more natural gramatical phenomenon;<br>\n",
    "In the following section we will construct a simple grammer that will be upgraded to capture more of **English** rules;"
   ]
  },
  {
   "cell_type": "markdown",
   "metadata": {},
   "source": [
    "---"
   ]
  },
  {
   "cell_type": "markdown",
   "metadata": {},
   "source": [
    "### <font color='blue'>Question 1.1: Extend a CFG to support Number agreement, Pronouns and Dative Constructions</font>\n",
    "We are given a basic CFG rules, and few exmpale sentences; our task here is to add CFG rules to the given ones so that the new set of rules will be able to parse all the given sentences;"
   ]
  },
  {
   "cell_type": "markdown",
   "metadata": {},
   "source": [
    "#### 1.1.1 Extend the CFG so that the following sentences can be parsed:"
   ]
  },
  {
   "cell_type": "markdown",
   "metadata": {},
   "source": [
    "* John left\n",
    "* John loves Mary\n",
    "* They love Mary\n",
    "* They love her\n",
    "* She loves them\n",
    "* Everybody loves John\n",
    "* A boy loves Mary\n",
    "* John gave Mary a heavy book\n",
    "* John gave it to Mary"
   ]
  },
  {
   "cell_type": "markdown",
   "metadata": {},
   "source": [
    "The given CFG:"
   ]
  },
  {
   "cell_type": "code",
   "execution_count": 2,
   "metadata": {},
   "outputs": [],
   "source": [
    "sg = \"\"\"\n",
    "S -> NP VP\n",
    "VP -> IV | TV NP\n",
    "NP -> 'John' | \"bread\"\n",
    "IV -> 'left'\n",
    "TV -> 'eats'\n",
    "\"\"\""
   ]
  },
  {
   "cell_type": "markdown",
   "metadata": {},
   "source": [
    "The new constructed CFG:"
   ]
  },
  {
   "cell_type": "code",
   "execution_count": 3,
   "metadata": {
    "scrolled": true
   },
   "outputs": [
    {
     "name": "stdout",
     "output_type": "stream",
     "text": [
      "parsing sentence: 'John left'\n",
      "(S (SNP John) (SVP (SIV left)))\n",
      "\n",
      "\n",
      "parsing sentence: 'John eats bread'\n",
      "(S (SNP John) (SVP (STV eats) (SNP bread)))\n",
      "\n",
      "\n",
      "parsing sentence: 'John loves Mary'\n",
      "(S (SNP John) (SVP (STV loves) (SNP Mary)))\n",
      "\n",
      "\n",
      "parsing sentence: 'They love Mary'\n",
      "(S (PLNP They) (PLVP (PLTV love) (SNP Mary)))\n",
      "\n",
      "\n",
      "parsing sentence: 'They love her'\n",
      "(S (PLNP They) (PLVP (PLTV love) (ACCNP her)))\n",
      "\n",
      "\n",
      "parsing sentence: 'She loves them'\n",
      "(S (SNP She) (SVP (STV loves) (ACCNP them)))\n",
      "\n",
      "\n",
      "parsing sentence: 'Everybody loves John'\n",
      "(S (SNP Everybody) (SVP (STV loves) (SNP John)))\n",
      "\n",
      "\n",
      "parsing sentence: 'A boy loves Mary'\n",
      "(S (SNP (DET A) (SNP boy)) (SVP (STV loves) (SNP Mary)))\n",
      "\n",
      "\n",
      "parsing sentence: 'John gave Mary a heavy book'\n",
      "(S\n",
      "  (SNP John)\n",
      "  (SVP\n",
      "    (SDV gave)\n",
      "    (SNP Mary)\n",
      "    (SNP (DET a) (SNP (ADJ heavy) (SNP book)))))\n",
      "\n",
      "\n",
      "parsing sentence: 'John gave it to Mary'\n",
      "(S (SNP John) (SVP (SDV gave) (ACCNP it) to (SNP Mary)))\n",
      "\n",
      "\n"
     ]
    }
   ],
   "source": [
    "import nltk\n",
    "\n",
    "sg = \"\"\"\n",
    "S -> SNP SVP | PLNP PLVP \n",
    "SVP -> SIV | STV ACCNP | STV SNP | STV PLNP  | SDV SNP SNP | SDV ACCNP \"to\" SNP\n",
    "PLVP -> PLIV | PLTV ACCNP |  PLTV SNP | PLTV PLNP\n",
    "PLNP -> 'They' \n",
    "SNP -> ADJ SNP |DET SNP | 'John'  | 'She' | 'Everybody' | \"boy\" | \"Mary\" | \"bread\" | \"book\"\n",
    "SIV -> 'left'\n",
    "STV -> 'eats' | 'loves' \n",
    "SDV -> \"gave\"\n",
    "PLTV -> 'love'\n",
    "ACCNP -> 'them' | 'her' | \"it\"\n",
    "DET -> \"A\" | \"a\"\n",
    "ADJ -> \"heavy\"\n",
    "\"\"\"\n",
    "g = nltk.CFG.fromstring(sg)\n",
    "\n",
    "# Bottom-up  parser\n",
    "sr_parser = nltk.ShiftReduceParser(g, trace=0)\n",
    "\n",
    "def parse_sentence(sent):\n",
    "    tokens = sent.split()\n",
    "    trees = sr_parser.parse(tokens)\n",
    "    print(\"parsing sentence: '%s'\" % sent)\n",
    "    for tree in trees:\n",
    "        print(tree)\n",
    "    print(\"\\n\")\n",
    "\n",
    "parse_sentence(\"John left\")\n",
    "parse_sentence(\"John eats bread\")\n",
    "parse_sentence(\"John loves Mary\")\n",
    "parse_sentence(\"They love Mary\")\n",
    "parse_sentence(\"They love her\")\n",
    "parse_sentence(\"She loves them\")\n",
    "parse_sentence(\"Everybody loves John\")\n",
    "parse_sentence(\"A boy loves Mary\")\n",
    "parse_sentence(\"John gave Mary a heavy book\")\n",
    "parse_sentence(\"John gave it to Mary\")"
   ]
  },
  {
   "cell_type": "markdown",
   "metadata": {},
   "source": [
    "---"
   ]
  },
  {
   "cell_type": "markdown",
   "metadata": {},
   "source": [
    "Q. Do we need to encode gender in the grammar?<br>\n",
    "A. **No**, as in english there is no distinction between genders nither in verbs nor nouns;"
   ]
  },
  {
   "cell_type": "markdown",
   "metadata": {},
   "source": [
    "#### 1.1.2 Example of overgeneration\n",
    "We present here an exmple in wich our constructed grammer is successfuly parsing a \"bad sentece\" i.e. a setence that does not follows Emglish grammer; <br>\n",
    "In our example we see 2 errors:\n",
    "* sequence of 2 determiners\n",
    "* determinter before a pronoun"
   ]
  },
  {
   "cell_type": "code",
   "execution_count": 4,
   "metadata": {
    "scrolled": true
   },
   "outputs": [
    {
     "name": "stdout",
     "output_type": "stream",
     "text": [
      "parsing sentence: 'A A Everybody loves John'\n",
      "(S\n",
      "  (SNP (DET A) (SNP (DET A) (SNP Everybody)))\n",
      "  (SVP (STV loves) (SNP John)))\n",
      "\n",
      "\n"
     ]
    }
   ],
   "source": [
    "parse_sentence(\"A A Everybody loves John\")"
   ]
  },
  {
   "cell_type": "markdown",
   "metadata": {},
   "source": [
    "---"
   ]
  },
  {
   "cell_type": "markdown",
   "metadata": {},
   "source": [
    "### <font color='blue'>Question 1.2: Extend a CFG to support Coordination and Prepositional Phrases</font>"
   ]
  },
  {
   "cell_type": "markdown",
   "metadata": {},
   "source": [
    "#### 1.2.1 Extend the CFG so that the following sentences can be parsed:\n",
    "* John saw a man with a telescope\n",
    "* John saw a man on the hill with a telescope\n",
    "* Mary knows men and women\n",
    "* Mary knows men, children and women\n",
    "* John and Mary eat bread\n",
    "* John and Mary eat bread with cheese\n",
    "\n",
    "some explenations to the LHS rules naming:<br>\n",
    "\n",
    "S = sentence<br>\n",
    "\n",
    "NP = singular noun phrase<br>\n",
    "VP = singular verb phrase<br>\n",
    "  \n",
    "IV = Intransitive verb<br>\n",
    "1TV = transitive with 1 object <br>\n",
    "2TV = transitive with 2 objects <br>\n",
    "\n",
    "S_/ P_ = Singular/ Plural<br>\n",
    "A_ = atom prefix, transforms only to atoms (terminals)<br>\n",
    "\n",
    "ACC_NP = pronoun<br>\n",
    "DET = determiner<br>\n",
    "ADJ = adjective<br>\n",
    "LOC = location<br>"
   ]
  },
  {
   "cell_type": "markdown",
   "metadata": {},
   "source": [
    "---\n"
   ]
  },
  {
   "cell_type": "markdown",
   "metadata": {},
   "source": [
    "**First attemp:** adding CFG rules:<br>\n",
    "first 4 sentences can be parsed via 'shifr-reduce' nltk parser;\n",
    "That parser has the following strategy:\n",
    "1) shift to the next word, only when no rules of the stack status can be reduced;\n",
    "2) reduce: if there is a rule that can be deduced backwards, do it on the \"firsr-rule-match\" approach\n",
    "\n",
    "That parsing strategy, can lead to sentences that are not parsed enev though they can be generated by the CFG given;\n",
    "As mentioned, the 4 below sentences does not lead to such conflict;<br>\n",
    "\n",
    "Presenting the CFG parsing the 4 first sentences:"
   ]
  },
  {
   "cell_type": "code",
   "execution_count": 28,
   "metadata": {
    "scrolled": true
   },
   "outputs": [
    {
     "name": "stdout",
     "output_type": "stream",
     "text": [
      "parsing sentence: 'John saw a man with a telescope'\n",
      "(S\n",
      "  (S_NP (A_S_NP John))\n",
      "  (S_VP\n",
      "    (S_2TV_WITH saw)\n",
      "    (S_NP (DET a) (S_NP (A_S_NP man)))\n",
      "    with\n",
      "    (S_NP (DET a) (S_NP (A_S_NP telescope)))))\n",
      "\n",
      "\n",
      "parsing sentence: 'John saw a man on the hill with a telescope'\n",
      "(S\n",
      "  (S_NP (A_S_NP John))\n",
      "  (S_VP\n",
      "    (S_2TV_WITH saw)\n",
      "    (S_NP (S_NP (DET a) (S_NP (A_S_NP man))) on (DET the) (LOC hill))\n",
      "    with\n",
      "    (S_NP (DET a) (S_NP (A_S_NP telescope)))))\n",
      "\n",
      "\n",
      "parsing sentence: 'Mary knows men and women'\n",
      "(S\n",
      "  (S_NP (A_S_NP Mary))\n",
      "  (S_VP (S_1TV knows) (P_NP (A_P_NP men) and (A_P_NP women))))\n",
      "\n",
      "\n",
      "parsing sentence: 'Mary knows men, children and women'\n",
      "(S\n",
      "  (S_NP (A_S_NP Mary))\n",
      "  (S_VP\n",
      "    (S_1TV knows)\n",
      "    (P_NP (A_P_NP men,) (P_NP (A_P_NP children) and (A_P_NP women)))))\n",
      "\n",
      "\n"
     ]
    }
   ],
   "source": [
    "sg = \"\"\"\n",
    "S -> S_NP S_VP | P_NP P_VP\n",
    "\n",
    "S_VP -> S_IV | S_1TV ACC_NP | S_1TV P_NP | S_1TV S_NP  | S_2TV_TO S_NP S_NP | S_2TV_TO ACC_NP \"to\" S_NP | S_2TV_WITH S_NP \"with\" S_NP\n",
    "S_NP -> ADJ S_NP | DET S_NP | S_NP \"on\" DET LOC |  S_NP S_NP | A_S_NP \n",
    "A_S_NP -> 'John' | 'She' | 'Everybody' | \"boy\" | \"Mary\" | 'bread' | \"book\" | \"man\" | \"telescope\" | \"cheese\"\n",
    "S_IV -> 'left'\n",
    "S_1TV -> 'eats' | 'loves' | \"knows\"\n",
    "S_2TV_TO -> \"gave\"\n",
    "S_2TV_WITH -> \"saw\"\n",
    "\n",
    "P_NP -> A_P_NP \"and\" A_P_NP | A_P_NP P_NP | S_NP \"and\" S_NP | S_NP \"with\" S_NP\n",
    "A_P_NP -> 'They' | \"men\" | \"women\" | \"children\" | \"men,\"\n",
    "P_VP -> P_TV ACC_NP | P_TV S_NP | P_TV P_NP \n",
    "P_TV -> 'love' | \"eat\"\n",
    "\n",
    "ACC_NP -> 'them' | 'her' | \"it\"\n",
    "DET -> \"A\" | \"a\"| \"the\"\n",
    "ADJ -> \"heavy\"\n",
    "LOC -> \"hill\"\n",
    "\"\"\"\n",
    "\n",
    "def parse_sentence(sent):\n",
    "    tokens = sent.split()\n",
    "    trees = sr_parser.parse(tokens)\n",
    "    print(\"parsing sentence: '%s'\" % sent)\n",
    "    for tree in trees:\n",
    "        print(tree)\n",
    "    print(\"\\n\")\n",
    "    \n",
    "g = nltk.CFG.fromstring(sg)\n",
    "\n",
    "# Bottom-up  parser\n",
    "sr_parser = nltk.ShiftReduceParser(g, trace=0)\n",
    "\n",
    "parse_sentence(\"John saw a man with a telescope\")\n",
    "parse_sentence(\"John saw a man on the hill with a telescope\")\n",
    "\n",
    "parse_sentence(\"Mary knows men and women\")\n",
    "parse_sentence(\"Mary knows men, children and women\")"
   ]
  },
  {
   "cell_type": "markdown",
   "metadata": {},
   "source": [
    "**Second attempt:**<br>\n",
    "Now we look on the following sentences:\n",
    "\n",
    "\"John and Mary eat bread\"<br>\n",
    "\"John and Mary eat bread with cheese\"<br>\n",
    "\n",
    "given that the parser is a shift-reduce one, and using the above mentioned strategy,<be>\n",
    "One cannot generate a CGF to distinguish the end of sentence via shift-reduce parser, as the parser is greedy in the sense that it will complete a sentence once it can; <br>\n",
    "Therefore if we would like to enable parsing of the first sentence the second will be left with redundant part, and if we will enforce a rule to parse the second, the first will not be parsed;\n",
    "Resulting in a both cases, in one that cannot be parsed;<br>\n",
    "\n",
    "We present the following trick:<br>\n",
    "* We add manually to the end of a parsed sentence a marker to mark the end of the sentence: 'ENDSENT';<br>\n",
    "* Then, we change the CFG to wait for that marker before allowing the parser to reduce;<br>\n",
    "\n",
    "\n",
    "[Note] - That trick is fitted to the task of parsing a sentence with the given parser, one can think of other parser that alone would deal with that problem, but may be less efficient by run time;<br>\n",
    "\n",
    "Below CFG parses"
   ]
  },
  {
   "cell_type": "code",
   "execution_count": 25,
   "metadata": {},
   "outputs": [
    {
     "name": "stdout",
     "output_type": "stream",
     "text": [
      "parsing sentence: 'John saw a man with a telescope'\n",
      "(S\n",
      "  (S_NP (A_S_NP John))\n",
      "  (S_VP_ES\n",
      "    (S_VP\n",
      "      (S_2TV_WITH saw)\n",
      "      (S_NP (DET a) (S_NP (A_S_NP man)))\n",
      "      with\n",
      "      (S_NP (DET a) (S_NP (A_S_NP telescope))))\n",
      "    (ES ENDSENT)))\n",
      "\n",
      "\n",
      "parsing sentence: 'John saw a man on the hill with a telescope'\n",
      "(S\n",
      "  (S_NP (A_S_NP John))\n",
      "  (S_VP_ES\n",
      "    (S_VP\n",
      "      (S_2TV_WITH saw)\n",
      "      (S_NP\n",
      "        (S_NP (DET a) (S_NP (A_S_NP man)))\n",
      "        on\n",
      "        (DET the)\n",
      "        (LOC hill))\n",
      "      with\n",
      "      (S_NP (DET a) (S_NP (A_S_NP telescope))))\n",
      "    (ES ENDSENT)))\n",
      "\n",
      "\n",
      "parsing sentence: 'Mary knows men and women'\n",
      "(S\n",
      "  (S_NP (A_S_NP Mary))\n",
      "  (S_VP_ES\n",
      "    (S_VP (S_1TV knows) (P_NP (A_P_NP men) and (A_P_NP women)))\n",
      "    (ES ENDSENT)))\n",
      "\n",
      "\n",
      "parsing sentence: 'Mary knows men, children and women'\n",
      "(S\n",
      "  (S_NP (A_S_NP Mary))\n",
      "  (S_VP_ES\n",
      "    (S_VP\n",
      "      (S_1TV knows)\n",
      "      (P_NP\n",
      "        (A_P_NP men,)\n",
      "        (P_NP (A_P_NP children) and (A_P_NP women))))\n",
      "    (ES ENDSENT)))\n",
      "\n",
      "\n",
      "parsing sentence: 'John and Mary eat bread'\n",
      "(S\n",
      "  (P_NP (S_NP (A_S_NP John)) and (S_NP (A_S_NP Mary)))\n",
      "  (P_VP_ES\n",
      "    (P_TV_TOS_ES\n",
      "      (P_TV eat)\n",
      "      (S_NP_ES (S_NP (A_S_NP bread)) (ES ENDSENT)))))\n",
      "\n",
      "\n",
      "parsing sentence: 'John and Mary eat bread with cheese'\n",
      "(S\n",
      "  (P_NP (S_NP (A_S_NP John)) and (S_NP (A_S_NP Mary)))\n",
      "  (P_VP_ES\n",
      "    (P_TV_TOP_ES\n",
      "      (P_TV eat)\n",
      "      (P_NP_ES\n",
      "        (P_NP (S_NP (A_S_NP bread)) with (S_NP (A_S_NP cheese)))\n",
      "        (ES ENDSENT)))))\n",
      "\n",
      "\n"
     ]
    }
   ],
   "source": [
    "sg = \"\"\"\n",
    "S -> S_NP S_VP_ES | P_NP P_VP_ES\n",
    "\n",
    "S_VP -> S_IV | S_1TV ACC_NP | S_1TV P_NP | S_1TV S_NP  | S_2TV_TO S_NP S_NP | S_2TV_TO ACC_NP \"to\" S_NP | S_2TV_WITH S_NP \"with\" S_NP\n",
    "S_VP_ES -> S_VP ES\n",
    "S_NP -> ADJ S_NP | DET S_NP | S_NP \"on\" DET LOC |  S_NP A_S_NP | A_S_NP \n",
    "S_NP_ES -> S_NP ES\n",
    "A_S_NP -> 'John' | 'She' | 'Everybody' | \"boy\" | \"Mary\" | 'bread' | \"book\" | \"man\" | \"telescope\" | \"cheese\"\n",
    "\n",
    "S_IV -> 'left'\n",
    "S_1TV -> 'eats' | 'loves' | \"knows\"\n",
    "S_2TV_TO -> \"gave\"\n",
    "S_2TV_WITH -> \"saw\"\n",
    "\n",
    "P_NP -> A_P_NP \"and\" A_P_NP | A_P_NP P_NP | S_NP \"and\" S_NP | S_NP \"with\" S_NP\n",
    "P_NP_ES -> P_NP ES\n",
    "A_P_NP -> 'They' | \"men\" | \"women\" | \"children\" | \"men,\"\n",
    "P_VP_ES -> P_TV ACC_NP ES | P_TV_TOP_ES | P_TV_TOS_ES\n",
    "P_TV_TOP_ES -> P_TV P_NP_ES\n",
    "P_TV_TOS_ES -> P_TV S_NP_ES\n",
    "P_TV -> 'love' | \"eat\"\n",
    "\n",
    "ACC_NP -> 'them' | 'her' | \"it\"\n",
    "DET -> \"A\" | \"a\"| \"the\"\n",
    "ADJ -> \"heavy\"\n",
    "LOC -> \"hill\"\n",
    "\n",
    "ES -> 'ENDSENT'\n",
    "\"\"\"\n",
    "\n",
    "def parse_sentence(sent):\n",
    "    tokens = sent.split()\n",
    "    tokens.append('ENDSENT')\n",
    "    trees = sr_parser.parse(tokens)\n",
    "    print(\"parsing sentence: '%s'\" % sent)\n",
    "    for tree in trees:\n",
    "        print(tree)\n",
    "    print(\"\\n\")\n",
    "    \n",
    "g = nltk.CFG.fromstring(sg)\n",
    "\n",
    "# Bottom-up  parser\n",
    "sr_parser = nltk.ShiftReduceParser(g, trace=0)\n",
    "\n",
    "parse_sentence(\"John saw a man with a telescope\")\n",
    "parse_sentence(\"John saw a man on the hill with a telescope\")\n",
    "\n",
    "parse_sentence(\"Mary knows men and women\")\n",
    "parse_sentence(\"Mary knows men, children and women\")\n",
    "\n",
    "parse_sentence(\"John and Mary eat bread\")\n",
    "parse_sentence(\"John and Mary eat bread with cheese\")\n"
   ]
  },
  {
   "cell_type": "markdown",
   "metadata": {},
   "source": [
    "\n"
   ]
  }
 ],
 "metadata": {
  "kernelspec": {
   "display_name": "Python 3",
   "language": "python",
   "name": "python3"
  },
  "language_info": {
   "codemirror_mode": {
    "name": "ipython",
    "version": 3
   },
   "file_extension": ".py",
   "mimetype": "text/x-python",
   "name": "python",
   "nbconvert_exporter": "python",
   "pygments_lexer": "ipython3",
   "version": "3.7.0"
  }
 },
 "nbformat": 4,
 "nbformat_minor": 2
}
