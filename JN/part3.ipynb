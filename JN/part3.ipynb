{
 "cells": [
  {
   "cell_type": "markdown",
   "metadata": {},
   "source": [
    "# Question 3: Building and Evaluating a Simple PCFG Parser\n",
    "\n",
    "In this question, we will construct a Viterbi parser for the PCFG induced in Question 2 and perform evaluation of this statistical parser. \n",
    "\n",
    "## Question 3.1: Build a Parser\n",
    "First, we'll use the pcfg_cnf_learn function from Q2:\n",
    "\n"
   ]
  },
  {
   "cell_type": "code",
   "execution_count": 4,
   "metadata": {},
   "outputs": [],
   "source": [
    "import math\n",
    "import nltk\n",
    "from nltk.corpus import LazyCorpusLoader, BracketParseCorpusReader\n",
    "from nltk.grammar import Production, ProbabilisticProduction, PCFG\n",
    "from nltk import Tree, Nonterminal\n",
    "import matplotlib.pyplot as plt\n",
    "\n",
    "\n",
    "\n",
    "def simplify_functional_tag(tag):\n",
    "    if tag == \"-NONE-\":\n",
    "        return tag\n",
    "    if '-' in tag:\n",
    "        tag = tag.split('-')[0]\n",
    "    return tag\n",
    "\n",
    "treebank = LazyCorpusLoader('treebank/combined', BracketParseCorpusReader, r'wsj_.*\\.mrg')\n",
    "\n",
    "\n",
    "def get_tag(tree):\n",
    "    if isinstance(tree, Tree):\n",
    "        return Nonterminal(simplify_functional_tag(tree.label()))\n",
    "    else:\n",
    "        return tree\n",
    "\n",
    "def tree_to_production(tree):\n",
    "    return Production(get_tag(tree), [get_tag(child) for child in tree])\n",
    "\n",
    "def tree_to_productions(tree):\n",
    "    yield tree_to_production(tree)\n",
    "    for child in tree:\n",
    "        if isinstance(child, Tree):\n",
    "            for prod in tree_to_productions(child):\n",
    "                yield prod\n",
    "                \n",
    "                \n",
    "def pcfg_cnf_learn(treebank, n):\n",
    "    trees = treebank.parsed_sents()[:n]\n",
    "    pcount = {}\n",
    "    lcount = {}\n",
    "    for s in trees:\n",
    "        nltk.treetransforms.chomsky_normal_form(s, factor='right', horzMarkov=1, vertMarkov=1, childChar='|',\n",
    "                                                parentChar='^')\n",
    "        curr = tree_to_productions(s)\n",
    "        for prod in curr:\n",
    "            if not (\"-NONE-\" in str(prod.lhs()) or \"-NONE-\" in str(prod.rhs())):\n",
    "                lcount[prod.lhs()] = lcount.get(prod.lhs(), 0) + 1\n",
    "                pcount[prod] = pcount.get(prod, 0) + 1\n",
    "    prods = [\n",
    "        ProbabilisticProduction(p.lhs(), p.rhs(), prob=pcount[p] / lcount[p.lhs()])\n",
    "        for p in pcount\n",
    "    ]\n",
    "\n",
    "    return PCFG(Nonterminal(\"S\"), prods)\n",
    "\n"
   ]
  },
  {
   "cell_type": "markdown",
   "metadata": {},
   "source": [
    " ### 3.1.1 \n",
    " Now, we split the NLTK treebank corpus into 80% training and 20%  testing sets. "
   ]
  },
  {
   "cell_type": "code",
   "execution_count": 5,
   "metadata": {},
   "outputs": [
    {
     "name": "stdout",
     "output_type": "stream",
     "text": [
      "training set size: 3131\n",
      "test set size: 783\n"
     ]
    }
   ],
   "source": [
    "import math\n",
    "train_index = math.floor(len(treebank.parsed_sents())*0.8)\n",
    "print(\"training set size: \" + str(train_index))\n",
    "print(\"test set size: \" + str(len(treebank.parsed_sents()) - train_index))"
   ]
  },
  {
   "cell_type": "markdown",
   "metadata": {},
   "source": [
    "### 3.1.2\n",
    "Now, we learn a PCFG over the Chomsky Normal Form version of this treebank."
   ]
  },
  {
   "cell_type": "code",
   "execution_count": 6,
   "metadata": {},
   "outputs": [],
   "source": [
    "g = pcfg_cnf_learn(treebank,train_index)"
   ]
  },
  {
   "cell_type": "markdown",
   "metadata": {},
   "source": [
    "### 3.1.3\n",
    "We will construct a ViterbiParser using g, the output PCFG grammar."
   ]
  },
  {
   "cell_type": "code",
   "execution_count": 7,
   "metadata": {},
   "outputs": [],
   "source": [
    "vp=nltk.parse.viterbi.ViterbiParser(g)\n"
   ]
  },
  {
   "cell_type": "markdown",
   "metadata": {},
   "source": [
    "Now, let's test the parser: "
   ]
  },
  {
   "cell_type": "code",
   "execution_count": 19,
   "metadata": {},
   "outputs": [
    {
     "name": "stdout",
     "output_type": "stream",
     "text": [
      "(S\n",
      "  (NP (PRP he))\n",
      "  (VP^<S\n",
      "    (MD will)\n",
      "    (VP^<VP> (VB join) (NP^<VP> (DT the) (NN board))))) (p=1.02639e-12)\n"
     ]
    }
   ],
   "source": [
    "t = vp.parse(\"he will join the board\".split())\n",
    "for st in t:\n",
    "    print(st)"
   ]
  },
  {
   "cell_type": "code",
   "execution_count": null,
   "metadata": {},
   "outputs": [],
   "source": []
  }
 ],
 "metadata": {
  "kernelspec": {
   "display_name": "Python 3",
   "language": "python",
   "name": "python3"
  },
  "language_info": {
   "codemirror_mode": {
    "name": "ipython",
    "version": 3
   },
   "file_extension": ".py",
   "mimetype": "text/x-python",
   "name": "python",
   "nbconvert_exporter": "python",
   "pygments_lexer": "ipython3",
   "version": "3.7.0"
  }
 },
 "nbformat": 4,
 "nbformat_minor": 2
}
