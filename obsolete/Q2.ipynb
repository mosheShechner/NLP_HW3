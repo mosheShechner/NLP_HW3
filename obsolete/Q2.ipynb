{
 "cells": [
  {
   "cell_type": "markdown",
   "metadata": {},
   "source": [
    "# Question 2"
   ]
  },
  {
   "cell_type": "markdown",
   "metadata": {},
   "source": [
    "## Question 2.1: Random PCFG Generation\n",
    "\n",
    "In this question, we implement the function pcfg_generate(grammar) which will generate a random tree from a PCFG according to its generative probability model. In other words, we implement a sample method from the PCFG distribution. \n",
    "We use a recursive method: Given a symbol, we randomly choose a production from the that symbol. The base case is a Terminal. "
   ]
  },
  {
   "cell_type": "code",
   "execution_count": 42,
   "metadata": {},
   "outputs": [],
   "source": [
    "from nltk import PCFG, ProbabilisticProduction, MLEProbDist, FreqDist\n",
    "from nltk.grammar import Nonterminal, Production\n",
    "from nltk import probability\n",
    "import re\n",
    "import numpy as np\n",
    "\n",
    "\n",
    "def getProbDist(productions):\n",
    "    dict = {}\n",
    "    for p in productions:\n",
    "        dict[p.rhs()]=p.prob()\n",
    "    return probability.DictionaryProbDist(dict)\n",
    "\n",
    "\n",
    "def get_random_production_helper(nt,g):\n",
    "    if not isinstance(nt, Nonterminal):\n",
    "        return \"\"\n",
    "    else:\n",
    "        productions = g.productions(nt)\n",
    "        p = getProbDist(productions)\n",
    "        t = p.generate()\n",
    "        res = \"\"\n",
    "        for x in t:\n",
    "            if isinstance(x,Nonterminal):\n",
    "                res =  res + \" (\" + str(x) + \" \" + get_random_production_helper(x, g) + \")\"\n",
    "            else:\n",
    "                res = res + str(x)\n",
    "        return res\n",
    "\n",
    "\n",
    "def pcfg_generate(g):\n",
    "    res = get_random_production_helper(g.start(),g)\n",
    "    return \"(S\" + res + \")\""
   ]
  },
  {
   "cell_type": "markdown",
   "metadata": {},
   "source": [
    "Let's test our code with some example grammer:"
   ]
  },
  {
   "cell_type": "code",
   "execution_count": 43,
   "metadata": {},
   "outputs": [
    {
     "name": "stdout",
     "output_type": "stream",
     "text": [
      "(S (NP  (Det the) (N telescope)) (VP  (V ate)))\n"
     ]
    }
   ],
   "source": [
    "g = PCFG.fromstring(\"\"\"\n",
    "    S -> NP VP [1.0]\n",
    "    NP -> Det N [0.5] | NP PP [0.25] | 'John' [0.1] | 'I' [0.15]\n",
    "    Det -> 'the' [0.8] | 'my' [0.2]\n",
    "    N -> 'man' [0.5] | 'telescope' [0.5]\n",
    "    VP -> VP PP [0.1] | V NP [0.7] | V [0.2]\n",
    "    V -> 'ate' [0.35] | 'saw' [0.65]\n",
    "    PP -> P NP [1.0]\n",
    "    P -> 'with' [0.61] | 'under' [0.39]\n",
    "    \"\"\")\n",
    "\n",
    "print(pcfg_generate(g))"
   ]
  },
  {
   "cell_type": "markdown",
   "metadata": {},
   "source": [
    "Now, we want to validate the generate function.\n",
    "\n",
    "### 2.1.1\n",
    "We generate 1,000 random trees using nltk.grammar.toy_pcfg2 - and store the resulting trees in a file \"toy_pcfg2.gen\". "
   ]
  },
  {
   "cell_type": "code",
   "execution_count": 44,
   "metadata": {},
   "outputs": [],
   "source": [
    "from nltk.grammar import toy_pcfg2\n",
    "\n",
    "\n",
    "def generate_corpus():\n",
    "    f = open(\"toy_pcfg2.gen\", \"w+\")\n",
    "    for i in range(1000):\n",
    "        s = pcfg_generate(toy_pcfg2)\n",
    "        f.write(s + \"\\r\\n\")\n",
    "    f.close()\n",
    "\n",
    "generate_corpus()"
   ]
  },
  {
   "cell_type": "markdown",
   "metadata": {},
   "source": [
    "Let's check some of the generated trees:"
   ]
  },
  {
   "cell_type": "code",
   "execution_count": 45,
   "metadata": {},
   "outputs": [
    {
     "name": "stdout",
     "output_type": "stream",
     "text": [
      "(S (NP  (Det the) (N hill)) (VP  (V ate) (NP  (Det my) (N boy))))\n",
      "\n",
      "(S (NP  (Name Jack)) (VP  (V ran) (NP  (Det the) (N hill))))\n",
      "\n",
      "(S (NP  (NP  (NP  (Name Bob)) (PP  (P under) (NP  (NP  (Det a) (N table)) (PP  (P with) (NP  (Name Jack)))))) (PP  (P with) (NP  (Name Jack)))) (VP  (V saw)))\n",
      "\n"
     ]
    }
   ],
   "source": [
    "file = open(\"toy_pcfg2.gen\", \"r\")\n",
    "lines = file.readlines()\n",
    "for i in range(5):\n",
    "    if lines[i] != \"\\n\":\n",
    "        print(lines[i])"
   ]
  },
  {
   "cell_type": "markdown",
   "metadata": {},
   "source": [
    "### 2.1.2 \n",
    "Now, we compute the frequency distribution of each non-terminal and pre-terminal in the generated corpus. We construct one distribution per non-terminal. First, we initialize 2 global dictionaries. one counts the number of times a given lhs occurs, and the other counts the number of times rhs occurs. Then we transform the string to tree, using the method create_tree, scan it, and update the dictionaries. "
   ]
  },
  {
   "cell_type": "code",
   "execution_count": 46,
   "metadata": {},
   "outputs": [],
   "source": [
    "\n",
    "def create_tree(sent):\n",
    "    items = re.findall(r\"\\(|\\)|\\w+\", sent)\n",
    "    return tree_helper(1,items)[0]\n",
    "\n",
    "\n",
    "def tree_helper(index,items):\n",
    "    result = []\n",
    "    item = items[index]\n",
    "    while item != \")\":\n",
    "        if item == \"(\":\n",
    "            subtree, index = tree_helper(index + 1,items)\n",
    "            result.append(subtree)\n",
    "        else:\n",
    "            result.append(item)\n",
    "        index += 1\n",
    "        item = items[index]\n",
    "    return result, index\n",
    "\n",
    "\n",
    "\n",
    "\n",
    "def leaf(t):\n",
    "    if len(t) != 2:\n",
    "        return False\n",
    "    for x in t:\n",
    "        if isinstance(x, list):\n",
    "            return False\n",
    "    return True\n",
    "\n",
    "\n",
    "def empirical_pcdg_helper(t,lcount,pcount):\n",
    "    if leaf(t):\n",
    "        nt = Nonterminal(t[0])\n",
    "        lcount[nt] = lcount.get(nt,0)+1\n",
    "        prod = Production(nt, [t[1]])\n",
    "        pcount[prod] = pcount.get(prod,0) + 1\n",
    "    else:\n",
    "        left = Nonterminal(t[0])\n",
    "        if len(t) == 2:\n",
    "            right = Nonterminal(t[1][0])\n",
    "            prod = Production(left,[right])\n",
    "            lcount[left] = lcount.get(left, 0) + 1\n",
    "            pcount[prod] = pcount.get(prod, 0) + 1\n",
    "            empirical_pcdg_helper(t[1],lcount,pcount)\n",
    "        else:\n",
    "            right1 = Nonterminal(t[1][0])\n",
    "            right2 = Nonterminal(t[2][0])\n",
    "            lcount[left] = lcount.get(left, 0) + 1\n",
    "            prod = Production(left,[right1,right2])\n",
    "            pcount[prod] = pcount.get(prod, 0) + 1\n",
    "            empirical_pcdg_helper(t[1],lcount,pcount)\n",
    "            empirical_pcdg_helper(t[2], lcount, pcount)\n",
    "\n",
    "\n",
    "def get_empirical_pcfg():\n",
    "    global lcount, pcfg\n",
    "    lcount = {}\n",
    "    pcount = {}\n",
    "    file = open(\"toy_pcfg2.gen\", \"r\")\n",
    "    lines = file.readlines()\n",
    "    for s in lines:\n",
    "        if s != \"\\n\":\n",
    "            t = create_tree(s)\n",
    "            empirical_pcdg_helper(t, lcount, pcount)\n",
    "    prods = [\n",
    "        ProbabilisticProduction(p.lhs(), p.rhs(), prob=pcount[p] / lcount[p.lhs()])\n",
    "        for p in pcount]\n",
    "    pcfg = PCFG(toy_pcfg2.start(), prods)\n",
    "    return pcfg\n",
    "\n",
    "\n",
    "\n",
    "def getFreqDist(productions):\n",
    "    dict = {}\n",
    "    for p in productions:\n",
    "        dict[p.rhs()]=p.prob()\n",
    "    return FreqDist(dict)\n",
    "\n",
    "\n",
    "pcfg = get_empirical_pcfg()\n",
    "pcfg_nt = []\n",
    "for p in pcfg.productions():\n",
    "    if p.lhs() not in pcfg_nt:\n",
    "        pcfg_nt.append(p.lhs())\n",
    "dist_dict = {}\n",
    "for nt in pcfg_nt:\n",
    "    nt_prods = pcfg.productions(nt)\n",
    "    fd = getFreqDist(nt_prods)\n",
    "    dist_dict[nt] = fd\n",
    "\n"
   ]
  },
  {
   "cell_type": "markdown",
   "metadata": {},
   "source": [
    "dist_dict contains a distribution for each Non-Terminal. for example, let's check dist_dict[NP]\n"
   ]
  },
  {
   "cell_type": "code",
   "execution_count": 47,
   "metadata": {},
   "outputs": [
    {
     "name": "stdout",
     "output_type": "stream",
     "text": [
      "dict_keys([(Det, N), (Name,), (NP, PP)])\n",
      "dict_values([0.4029159916685952, 0.28349919000231427, 0.31358481832909046])\n"
     ]
    }
   ],
   "source": [
    "dist = dist_dict[Nonterminal(\"NP\")]\n",
    "print(dist.keys())\n",
    "print(dist.values())"
   ]
  },
  {
   "cell_type": "markdown",
   "metadata": {},
   "source": [
    "If we compare it to the real NP distribution, we can see that it is a good estimation:\n",
    "\n",
    "    NP   -> NP PP         [.31]\n",
    "\n",
    "    NP   -> Det N         [.41]\n",
    "    \n",
    "    NP   -> Name          [.28]\n",
    "    \n",
    "  "
   ]
  },
  {
   "cell_type": "markdown",
   "metadata": {},
   "source": [
    "### 2.1.3\n",
    "Now, for each distribution, we want to compute the KL-divergence between the MLE estimation of the probability distribution constructed on the test corpus and toy_pcfg2. The MLE estimation is obtained by applying the MLEProbDist estimator to the observed empirical frequency distribution. The KL-divergence is a measure of how one probability distribution is different from a another distribution, where  KL divergence of 0 indicates that the two distributions are identical. It is given by:\n",
    "\n",
    "$$\n",
    "D_\\text{KL}(P \\parallel Q) = \\sum_{x\\in\\mathcal{X}} P(x) \\log\\left(\\frac{P(x)}{Q(x)}\\right)\n",
    "$$"
   ]
  },
  {
   "cell_type": "code",
   "execution_count": 48,
   "metadata": {},
   "outputs": [
    {
     "name": "stdout",
     "output_type": "stream",
     "text": [
      "S: 0.0\n",
      "VP: 0.0001745571006457026\n",
      "NP: 0.00010416646575280367\n",
      "PP: 0.0\n",
      "V: 0.0014723627610533935\n",
      "N: 0.0019587423029334655\n",
      "Name: 4.8034073365566844e-05\n",
      "P: 1.9220153332841997e-05\n",
      "Det: 0.00021792781742818387\n"
     ]
    }
   ],
   "source": [
    "non_tr = []\n",
    "for p in toy_pcfg2.productions():\n",
    "    if not p.lhs() in non_tr:\n",
    "        non_tr.append(p.lhs())\n",
    "\n",
    "\n",
    "\n",
    "def get_kl(p, q):\n",
    "    p = np.asarray(p)\n",
    "    q = np.asarray(q)\n",
    "\n",
    "    return np.sum(p * np.log(p / q))\n",
    "\n",
    "\n",
    "\n",
    "for nt in non_tr:\n",
    "    mle = MLEProbDist(dist_dict[nt])\n",
    "    prod_nt = toy_pcfg2.productions(nt)\n",
    "    t_dist = []\n",
    "    mle_dist = []\n",
    "    for pr in prod_nt:\n",
    "        t_dist.append(pr.prob())\n",
    "        mle_dist.append(mle.prob(pr.rhs()))\n",
    "    kl = get_kl(t_dist,mle_dist)\n",
    "    print(str(nt) + ': ' + str(kl))\n",
    "\n"
   ]
  },
  {
   "cell_type": "markdown",
   "metadata": {},
   "source": [
    "### 2.1.4 \n",
    "\n",
    "According to the results, the MLE estimation of the test corpus is very similar to the distribution. \n",
    "Since the toy_pcfg2 is a small grammer (about 30 rules), 1000 trees are good enough. In some cases we got that the KL divergence equals 0, as in the case of the nonterminal \"S\". This may seem too accurate, but this result make sense, since the true grammer toy_pcfg2 contains only one production for S: \n",
    "S    -> NP VP [1.0]\n"
   ]
  },
  {
   "cell_type": "markdown",
   "metadata": {},
   "source": [
    "## Question 2.2: Learn a PCFG from a Treebank\n",
    "In this question, we will learn a PCFG from a treebank. \n",
    "\n",
    "### 2.2.1\n",
    "In this part, we learn the PCFG without Chomsky Form Normalization, but we use \"simplified\" tags. That is, we use a function to simplify all tags in the tree (for example, we want tags of the form \"NP-SBJ-2\" to be simplified into \"NP\"). We use a recursive method: for each internal node, we create a production rule (the node is the LHS and his childs are the RHS), and then we continue to his childs. "
   ]
  },
  {
   "cell_type": "code",
   "execution_count": 49,
   "metadata": {},
   "outputs": [],
   "source": [
    "import nltk\n",
    "from nltk.corpus import LazyCorpusLoader, BracketParseCorpusReader\n",
    "from nltk import Tree\n",
    "import matplotlib.pyplot as plt\n",
    "\n",
    "\n",
    "def simplify_functional_tag(tag):\n",
    "    if tag == \"-NONE-\":\n",
    "        return tag\n",
    "    if '-' in tag:\n",
    "        tag = tag.split('-')[0]\n",
    "    return tag\n",
    "\n",
    "treebank = LazyCorpusLoader('treebank/combined', BracketParseCorpusReader, r'wsj_.*\\.mrg')\n",
    "\n",
    "\n",
    "def get_tag(tree):\n",
    "    if isinstance(tree, Tree):\n",
    "        return Nonterminal(simplify_functional_tag(tree.label()))\n",
    "    else:\n",
    "        return tree\n",
    "\n",
    "def tree_to_production(tree):\n",
    "    return Production(get_tag(tree), [get_tag(child) for child in tree])\n",
    "\n",
    "def tree_to_productions(tree):\n",
    "    yield tree_to_production(tree)\n",
    "    for child in tree:\n",
    "        if isinstance(child, Tree):\n",
    "            for prod in tree_to_productions(child):\n",
    "                yield prod"
   ]
  },
  {
   "cell_type": "markdown",
   "metadata": {},
   "source": [
    "The pcfg_learn(treebank, n) apply tree_to_productions(tree) on each tree $t_i , i\\in \\{1...n\\}$ and collects the productions. then, the function creates a PCFG grammer based on the list of productions. The probability of the production \n",
    "A -> B  in a PCFG is: \n",
    "$$\n",
    "Pr(A \\to B) = \\frac {Count(A \\to B)}{Count(A)}\n",
    "$$"
   ]
  },
  {
   "cell_type": "code",
   "execution_count": 50,
   "metadata": {},
   "outputs": [],
   "source": [
    "def plot_freq(pcount):\n",
    "    dict_vals = {}\n",
    "    vals = pcount.values()\n",
    "    for x in vals:\n",
    "        dict_vals[x] = dict_vals.get(x,0) + 1\n",
    "\n",
    "    s = sorted(dict_vals, key=dict_vals.get)\n",
    "    x = s[-10:]\n",
    "    y = []\n",
    "    for x0 in x:\n",
    "        y.append(dict_vals[x0])\n",
    "\n",
    "    plt.bar(x,y)\n",
    "    plt.show()\n",
    "\n",
    "\n",
    "def pcfg_learn(treebank, n):\n",
    "    trees = treebank.parsed_sents()[:n]\n",
    "    pcount = {}\n",
    "    lcount = {}\n",
    "    for s in trees:\n",
    "        curr = tree_to_productions(s)\n",
    "        for prod in curr:\n",
    "            if not (\"-NONE-\" in str(prod.lhs()) or \"-NONE-\" in str(prod.rhs())):\n",
    "                lcount[prod.lhs()] = lcount.get(prod.lhs(), 0) + 1\n",
    "                pcount[prod] = pcount.get(prod, 0) + 1\n",
    "    prods = [\n",
    "        ProbabilisticProduction(p.lhs(), p.rhs(), prob=pcount[p] / lcount[p.lhs()])\n",
    "        for p in pcount\n",
    "    ]\n",
    "    \n",
    "    incount = 0\n",
    "    for p in prods:\n",
    "        if len(p.rhs()) and not(isinstance(p.rhs()[0],Nonterminal)):\n",
    "            incount += 1\n",
    "\n",
    "    print(\"number of internal nodes: \" + str(incount))\n",
    "    print(\"number of productions: \" + str(len(pcount)))\n",
    "    return PCFG(Nonterminal(\"S\"), prods)\n"
   ]
  },
  {
   "cell_type": "markdown",
   "metadata": {},
   "source": [
    "Now we'll run pcfg_learn for n=200 and n=400"
   ]
  },
  {
   "cell_type": "code",
   "execution_count": 51,
   "metadata": {},
   "outputs": [
    {
     "name": "stdout",
     "output_type": "stream",
     "text": [
      "------------  200 trees ---------------\n",
      "number of internal nodes: 1656\n",
      "number of productions: 2270\n",
      "------------  400 trees ---------------\n",
      "number of internal nodes: 2792\n",
      "number of productions: 3714\n"
     ]
    },
    {
     "data": {
      "text/plain": [
       "<Grammar with 3714 productions>"
      ]
     },
     "execution_count": 51,
     "metadata": {},
     "output_type": "execute_result"
    }
   ],
   "source": [
    "print(\"------------  200 trees ---------------\")\n",
    "pcfg_learn(treebank,200)\n",
    "print(\"------------  400 trees ---------------\")\n",
    "pcfg_learn(treebank,400)\n"
   ]
  },
  {
   "cell_type": "markdown",
   "metadata": {},
   "source": [
    "### 2.2.2 \n",
    "Now we'll draw a plot of the distribution of productions according to their frequency (i.e. number of rules with frequency 1, 2, ...). We take the top 10 frequencies. "
   ]
  },
  {
   "cell_type": "code",
   "execution_count": 52,
   "metadata": {},
   "outputs": [
    {
     "name": "stdout",
     "output_type": "stream",
     "text": [
      "------------  200 trees ---------------\n"
     ]
    },
    {
     "data": {
      "image/png": "[encoded data removed]",
      "text/plain": [
       "<Figure size 432x288 with 1 Axes>"
      ]
     },
     "metadata": {
      "needs_background": "light"
     },
     "output_type": "display_data"
    },
    {
     "name": "stdout",
     "output_type": "stream",
     "text": [
      "------------  400 trees ---------------\n"
     ]
    },
    {
     "data": {
      "image/png": "[encoded data removed]",
      "text/plain": [
       "<Figure size 432x288 with 1 Axes>"
      ]
     },
     "metadata": {
      "needs_background": "light"
     },
     "output_type": "display_data"
    }
   ],
   "source": [
    "def plot_freq(pcount):\n",
    "    dict_vals = {}\n",
    "    vals = pcount.values()\n",
    "    for x in vals:\n",
    "        dict_vals[x] = dict_vals.get(x,0) + 1\n",
    "\n",
    "    s = sorted(dict_vals, key=dict_vals.get)\n",
    "    x = s[-10:]\n",
    "    y = []\n",
    "    for x0 in x:\n",
    "        y.append(dict_vals[x0])\n",
    "\n",
    "    plt.bar(x,y)\n",
    "    plt.show()\n",
    "\n",
    "\n",
    "def pcfg_learn_plot_freq(treebank, n):\n",
    "    trees = treebank.parsed_sents()[:n]\n",
    "    pcount = {}\n",
    "    lcount = {}\n",
    "    for s in trees:\n",
    "        curr = tree_to_productions(s)\n",
    "        for prod in curr:\n",
    "            if not (\"-NONE-\" in str(prod.lhs()) or \"-NONE-\" in str(prod.rhs())):\n",
    "                lcount[prod.lhs()] = lcount.get(prod.lhs(), 0) + 1\n",
    "                pcount[prod] = pcount.get(prod, 0) + 1\n",
    "    prods = [\n",
    "        ProbabilisticProduction(p.lhs(), p.rhs(), prob=pcount[p] / lcount[p.lhs()])\n",
    "        for p in pcount\n",
    "    ]\n",
    "\n",
    "    plot_freq(pcount)\n",
    "\n",
    "    \n",
    "print(\"------------  200 trees ---------------\")\n",
    "pcfg_learn_plot_freq(treebank,200)\n",
    "print(\"------------  400 trees ---------------\")\n",
    "pcfg_learn_plot_freq(treebank,400)"
   ]
  },
  {
   "cell_type": "markdown",
   "metadata": {},
   "source": [
    "### 2.2.3\n",
    "\n",
    "As we can see, the number of productions is doubled for n=400. (3714/2270)\n",
    "It make sense, since the number of possible productions is large, and small sample (n= 200 or 400), can not cover most of the rules. \n",
    "\n",
    "The distribution of productions is a power law distribution. As we saw, most of the productions are of the form Pre-Terminal -> Terminal. Hence, the distribution of productions is also a Word count distribution, and therefore it follows the power law. \n",
    "\n"
   ]
  },
  {
   "cell_type": "markdown",
   "metadata": {},
   "source": [
    "## Question 2.3: Induce a PCFG in Chomsky Normal Form\n",
    "### 2.3.1\n",
    "We now want to learn a PCFG in Chomsky Normal Form from the treebank, with simplified tags, and with filtered NONE elements. We convert the trees in the treebank into CNF, using the function chomsky_normal_form in nltk.treetransforms. Then we  induce the PCFG from the transformed trees"
   ]
  },
  {
   "cell_type": "code",
   "execution_count": 53,
   "metadata": {},
   "outputs": [],
   "source": [
    "def pcfg_cnf_learn(treebank, n):\n",
    "    trees = treebank.parsed_sents()[:n]\n",
    "    pcount = {}\n",
    "    lcount = {}\n",
    "    for s in trees:\n",
    "        nltk.treetransforms.chomsky_normal_form(s, factor='right', horzMarkov=1, vertMarkov=1, childChar='|',\n",
    "                                                parentChar='^')\n",
    "        curr = tree_to_productions(s)\n",
    "        for prod in curr:\n",
    "            if not (\"-NONE-\" in str(prod.lhs()) or \"-NONE-\" in str(prod.rhs())):\n",
    "                lcount[prod.lhs()] = lcount.get(prod.lhs(), 0) + 1\n",
    "                pcount[prod] = pcount.get(prod, 0) + 1\n",
    "    prods = [\n",
    "        ProbabilisticProduction(p.lhs(), p.rhs(), prob=pcount[p] / lcount[p.lhs()])\n",
    "        for p in pcount\n",
    "    ]\n",
    "    \n",
    "    \n",
    "    incount = 0\n",
    "    for p in prods:\n",
    "        if len(p.rhs()) and not(isinstance(p.rhs()[0],Nonterminal)):\n",
    "            incount += 1\n",
    "\n",
    "    print(\"number of internal nodes: \" + str(incount))\n",
    "    print(\"number of productions: \" + str(len(pcount)))\n",
    "    plot_freq(pcount)\n",
    "    return PCFG(Nonterminal(\"S\"), prods)"
   ]
  },
  {
   "cell_type": "markdown",
   "metadata": {},
   "source": [
    "### 2.3.2\n",
    "As before, we run pcfg_cnf_learn for n=200 and n=400:"
   ]
  },
  {
   "cell_type": "code",
   "execution_count": 54,
   "metadata": {},
   "outputs": [
    {
     "name": "stdout",
     "output_type": "stream",
     "text": [
      "------ 200 trees --------\n",
      "number of internal nodes: 1656\n",
      "number of productions: 2960\n"
     ]
    },
    {
     "data": {
      "image/png": "[encoded data removed]",
      "text/plain": [
       "<Figure size 432x288 with 1 Axes>"
      ]
     },
     "metadata": {
      "needs_background": "light"
     },
     "output_type": "display_data"
    },
    {
     "name": "stdout",
     "output_type": "stream",
     "text": [
      "------ 400 trees --------\n",
      "number of internal nodes: 2792\n",
      "number of productions: 4673\n"
     ]
    },
    {
     "data": {
      "image/png": "[encoded data removed]",
      "text/plain": [
       "<Figure size 432x288 with 1 Axes>"
      ]
     },
     "metadata": {
      "needs_background": "light"
     },
     "output_type": "display_data"
    },
    {
     "data": {
      "text/plain": [
       "<Grammar with 4673 productions>"
      ]
     },
     "execution_count": 54,
     "metadata": {},
     "output_type": "execute_result"
    }
   ],
   "source": [
    "print(\"------ 200 trees --------\")\n",
    "pcfg_cnf_learn(treebank,200)\n",
    "print(\"------ 400 trees --------\")\n",
    "pcfg_cnf_learn(treebank,400)"
   ]
  },
  {
   "cell_type": "markdown",
   "metadata": {},
   "source": [
    "### 2.3.3 \n",
    "We want to compare the CNF and non-CNF results. \n",
    "for n = 200, we had:\n",
    "$$\n",
    "\\frac {productions (CNF)}{productions (non-CNF)}  = \\frac {2960}{2270} = 1.303 \n",
    "$$\n",
    "\n",
    "And for n = 400, we had:\n",
    "$$\n",
    "\\frac {productions (CNF)}{productions (non-CNF)}  = \\frac {4673}{3714} = 1.25\n",
    "$$\n",
    "\n",
    "We can see that the number of productions is larger in a CNF grammer. "
   ]
  },
  {
   "cell_type": "markdown",
   "metadata": {},
   "source": [
    "## Question 2.4: Test CFG Independence Assumptions\n",
    " We want to test the CFG hypothesis that a node expansion is independent from its location within a tree. \n",
    " \n",
    " ### 2.4.1\n",
    " We start by computing the distribution of the RHS given the NP LHS for all NPs in the treebank. Draw a histogram plot.\n",
    " Again, we use a recursive function and a global counters:"
   ]
  },
  {
   "cell_type": "code",
   "execution_count": 55,
   "metadata": {},
   "outputs": [],
   "source": [
    "treebank = LazyCorpusLoader('treebank/combined', BracketParseCorpusReader, r'wsj_.*\\.mrg')\n",
    "\n",
    "\n",
    "def get_np_counters_sent(t,c,rhs_d):\n",
    "    curr_label = simplify_functional_tag(t.label())\n",
    "    if curr_label == \"NP\":\n",
    "        c[0] = c[0] + 1\n",
    "        for i in range(len(t)):\n",
    "            if type(t[i])==Tree and t[i].label() != \"-NONE-\":\n",
    "                rhs_d[simplify_functional_tag(t[i].label())] = rhs_d.get(simplify_functional_tag(t[i].label()),0) + 1\n",
    "                get_np_counters_sent(t[i],c,rhs_d)\n",
    "    else:\n",
    "        for i in range(len(t)):\n",
    "            if type(t[i]) == Tree:\n",
    "                get_np_counters_sent(t[i],c,rhs_d)\n",
    "\n",
    "\n",
    "def get_np_counters(sent_list,c,rhs_d):\n",
    "    for s in sent_list:\n",
    "        get_np_counters_sent(s,c,rhs_d)\n"
   ]
  },
  {
   "cell_type": "markdown",
   "metadata": {},
   "source": [
    "Now we'll run get_np_counters_sent:"
   ]
  },
  {
   "cell_type": "code",
   "execution_count": 56,
   "metadata": {},
   "outputs": [
    {
     "name": "stdout",
     "output_type": "stream",
     "text": [
      "Number of NP's = 35004\n",
      "histogram: \n",
      "{'NP': 10217, 'NNP': 9256, ',': 2273, 'ADJP': 515, 'CD': 2042, 'NNS': 5978, 'DT': 8090, 'NN': 12863, 'JJ': 4768, 'PP': 4443, 'VBG': 226, 'UCP': 20, 'RRC': 10, 'PRP': 1715, 'QP': 720, 'RB': 176, 'SBAR': 1064, 'PRP$': 766, 'JJS': 148, 'POS': 823, 'EX': 88, 'CC': 1117, 'VBN': 184, 'NAC': 49, 'S': 211, 'VP': 452, 'JJR': 196, 'RBR': 17, '``': 139, \"''\": 138, 'PRN': 140, 'ADVP': 123, '$': 237, '.': 119, 'CONJP': 16, ':': 211, 'WDT': 4, 'NX': 50, 'NNPS': 240, 'IN': 32, '': 22, 'PDT': 25, 'VB': 8, 'VBD': 5, 'RBS': 7, 'WP': 1, 'FW': 4, 'VBZ': 6, 'SYM': 1, 'LST': 5, 'X': 2, 'FRAG': 2, 'SQ': 1, 'SBARQ': 1, 'TO': 1, '#': 1, 'NP=3': 3, 'VBP': 1}\n"
     ]
    },
    {
     "data": {
      "image/png": "[encoded data removed]",
      "text/plain": [
       "<Figure size 432x288 with 1 Axes>"
      ]
     },
     "metadata": {
      "needs_background": "light"
     },
     "output_type": "display_data"
    }
   ],
   "source": [
    "\n",
    "np_counter = [0]\n",
    "np_dict = {}\n",
    "\n",
    "def plot_hist(dict):\n",
    "    sorted_keys = sorted(dict, key=dict.get, reverse=True)\n",
    "    x = []\n",
    "    y = []\n",
    "    for i in range(10):\n",
    "        x.append(sorted_keys[i])\n",
    "        y.append(dict[sorted_keys[i]])\n",
    "    plt.bar(x, y)\n",
    "    plt.show()\n",
    "\n",
    "get_np_counters(treebank.parsed_sents(),np_counter,np_dict)\n",
    "print(\"Number of NP's = \" + str(np_counter[0]))\n",
    "print(\"histogram: \")\n",
    "print(np_dict)\n",
    "plot_hist(np_dict)\n"
   ]
  },
  {
   "cell_type": "markdown",
   "metadata": {},
   "source": [
    "### 2.4.2 \n",
    "Now, we compute the same distribution only for NPs that appear directly below a S node. \n"
   ]
  },
  {
   "cell_type": "code",
   "execution_count": 57,
   "metadata": {},
   "outputs": [
    {
     "name": "stdout",
     "output_type": "stream",
     "text": [
      "Number of NP's under S = 9243\n",
      "histogram :\n",
      "{'NP': 1940, ',': 762, 'ADJP': 62, 'NNP': 2205, 'UCP': 6, 'PP': 798, 'RRC': 4, 'NNS': 1225, 'PRP': 1399, 'JJ': 580, 'DT': 1602, 'JJS': 21, 'NN': 1974, 'EX': 88, 'CC': 162, 'SBAR': 191, 'RBR': 5, 'JJR': 25, 'VBG': 33, 'PRP$': 107, 'VP': 87, 'CD': 86, 'VBN': 19, 'PRN': 33, 'WDT': 3, 'NAC': 8, 'IN': 6, '``': 22, \"''\": 21, 'S': 37, ':': 15, 'PDT': 6, 'NNPS': 34, 'ADVP': 9, 'FW': 1, 'RB': 17, 'QP': 13, 'POS': 12, '.': 3, 'SYM': 1, '': 8, 'NX': 4, '$': 1, 'RBS': 3, 'FRAG': 2, 'VBZ': 1, 'VBP': 1}\n"
     ]
    },
    {
     "data": {
      "image/png": "[encoded data removed]",
      "text/plain": [
       "<Figure size 432x288 with 1 Axes>"
      ]
     },
     "metadata": {
      "needs_background": "light"
     },
     "output_type": "display_data"
    }
   ],
   "source": [
    "np_below_s_counter = [0]\n",
    "np_below_s_dict = {}\n",
    "\n",
    "def get_np_below_s_counters_sent(t,c,rhs_d,parent):\n",
    "    curr_label = simplify_functional_tag(t.label())\n",
    "    if curr_label == \"NP\" and parent == \"S\":\n",
    "        c[0] = c[0] + 1\n",
    "        for i in range(len(t)):\n",
    "            if type(t[i])==Tree and t[i].label() != \"-NONE-\":\n",
    "                rhs_d[simplify_functional_tag(t[i].label())] = rhs_d.get(simplify_functional_tag(t[i].label()),0) + 1\n",
    "                get_np_below_s_counters_sent(t[i],c,rhs_d,curr_label)\n",
    "    else:\n",
    "        for i in range(len(t)):\n",
    "            if type(t[i]) == Tree:\n",
    "                get_np_below_s_counters_sent(t[i],c,rhs_d,curr_label)\n",
    "\n",
    "\n",
    "def get_np_below_s_counters(sent_list,c,rhs_d):\n",
    "    for s in sent_list:\n",
    "        get_np_below_s_counters_sent(s,c,rhs_d,s.label())\n",
    "\n",
    "\n",
    "get_np_below_s_counters(treebank.parsed_sents(),np_below_s_counter,np_below_s_dict)\n",
    "print(\"Number of NP's under S = \" + str(np_below_s_counter[0]))\n",
    "print(\"histogram :\")\n",
    "print(np_below_s_dict)\n",
    "plot_hist(np_below_s_dict)"
   ]
  },
  {
   "cell_type": "markdown",
   "metadata": {},
   "source": [
    "### 2.4.3 \n",
    "Now, we compute the same distribution only for NPs that appear directly below a VP node."
   ]
  },
  {
   "cell_type": "code",
   "execution_count": 58,
   "metadata": {},
   "outputs": [
    {
     "name": "stdout",
     "output_type": "stream",
     "text": [
      "Number of NP's under VP = 5950\n",
      "histogram :\n",
      "{'DT': 959, 'NN': 1875, 'NNP': 407, 'CD': 317, 'NP': 2365, 'PP': 1381, 'NNS': 805, 'SBAR': 378, 'JJ': 699, 'QP': 91, 'VBN': 20, 'CC': 188, '``': 26, \"''\": 34, 'VBG': 28, 'RB': 31, 'JJR': 31, 'PRN': 38, 'PRP$': 198, ',': 294, 'S': 86, 'PRP': 151, 'ADJP': 89, '$': 45, 'VP': 108, ':': 38, 'NX': 8, 'ADVP': 25, 'JJS': 10, 'RBR': 4, 'FW': 1, 'CONJP': 10, 'VBZ': 1, 'PDT': 9, 'NNPS': 7, 'NAC': 8, 'IN': 6, 'X': 1, 'RRC': 1, 'SBARQ': 1, '.': 1, 'POS': 2, 'UCP': 1, '': 2}\n"
     ]
    },
    {
     "data": {
      "image/png": "[encoded data removed]",
      "text/plain": [
       "<Figure size 432x288 with 1 Axes>"
      ]
     },
     "metadata": {
      "needs_background": "light"
     },
     "output_type": "display_data"
    }
   ],
   "source": [
    "\n",
    "np_below_vp_counter = [0]\n",
    "np_below_vp_dict = {}\n",
    "\n",
    "def get_np_below_vp_counters_sent(t,c,rhs_d,parent):\n",
    "    curr_label = simplify_functional_tag(t.label())\n",
    "    if curr_label == \"NP\" and parent == \"VP\":\n",
    "        c[0] = c[0] + 1\n",
    "        for i in range(len(t)):\n",
    "            if type(t[i])==Tree and t[i].label() != \"-NONE-\":\n",
    "                rhs_d[simplify_functional_tag(t[i].label())] = rhs_d.get(simplify_functional_tag(t[i].label()),0) + 1\n",
    "                get_np_below_vp_counters_sent(t[i],c,rhs_d,curr_label)\n",
    "    else:\n",
    "        for i in range(len(t)):\n",
    "            if type(t[i]) == Tree:\n",
    "                get_np_below_vp_counters_sent(t[i],c,rhs_d,curr_label)\n",
    "\n",
    "\n",
    "def get_np_below_vp_counters(sent_list,c,rhs_d):\n",
    "    for s in sent_list:\n",
    "        get_np_below_vp_counters_sent(s,c,rhs_d,s.label())\n",
    "\n",
    "\n",
    "get_np_below_vp_counters(treebank.parsed_sents(),np_below_vp_counter,np_below_vp_dict)\n",
    "print(\"Number of NP's under VP = \" + str(np_below_vp_counter[0]))\n",
    "print(\"histogram :\")\n",
    "print(np_below_vp_dict)\n",
    "plot_hist(np_below_vp_dict)"
   ]
  },
  {
   "cell_type": "markdown",
   "metadata": {},
   "source": [
    "\n",
    "### 2.4.4\n",
    "As we can see, there is a difference between the two distributions. For example, NNP is the most likely label given a NP label that appear directly below a S node, but it is much less common for NP label that appear directly below a VP node.\n",
    "We want to measure this difference using KL-divergence. Since the support of the 2 distributions p and q are not identical, we use smoothing. \n",
    "\n"
   ]
  },
  {
   "cell_type": "code",
   "execution_count": 59,
   "metadata": {},
   "outputs": [
    {
     "name": "stdout",
     "output_type": "stream",
     "text": [
      "0.25674216951132695\n"
     ]
    }
   ],
   "source": [
    "import numpy as np\n",
    "\n",
    "def dict_to_dist(d,s):\n",
    "    for x in d:\n",
    "        d[x] = d[x]/s\n",
    "    return d\n",
    "\n",
    "def get_joint_support(p,q):\n",
    "    supp = []\n",
    "    for x in p.keys():\n",
    "        if x not in supp:\n",
    "            supp.append(x)\n",
    "    for x in q.keys():\n",
    "        if x not in supp:\n",
    "            supp.append(x)\n",
    "    return supp\n",
    "\n",
    "p = dict_to_dist(np_below_s_dict,np_below_s_counter[0])\n",
    "q = dict_to_dist(np_below_vp_dict,np_below_vp_counter[0])\n",
    "\n",
    "\n",
    "sp = p.keys()\n",
    "cp = len(sp)\n",
    "\n",
    "sq = q.keys()\n",
    "cq = len(sq)\n",
    "\n",
    "su = get_joint_support(np_below_vp_dict,np_below_s_dict)\n",
    "cu = len(su)\n",
    "\n",
    "eps = 0.00001\n",
    "\n",
    "pc = eps*(cu-cp)/cp\n",
    "qc = eps*(cu-cq)/cq\n",
    "\n",
    "p_tag = {}\n",
    "q_tag = {}\n",
    "\n",
    "for x in su:\n",
    "    if x in sp:\n",
    "        p_tag[x] = p[x] - pc\n",
    "    else:\n",
    "        p_tag[x] = eps\n",
    "    if x in sq:\n",
    "        q_tag[x] = q[x] - qc\n",
    "    else:\n",
    "        q_tag[x] = eps\n",
    "\n",
    "\n",
    "def get_kl(a, b):\n",
    "    a = np.asarray(a)\n",
    "    b = np.asarray(b)\n",
    "\n",
    "    return np.sum(a * np.log(a / b))\n",
    "\n",
    "kl = get_kl([x for x in p_tag.values()],[x for x in q_tag.values()])\n",
    "print(kl)"
   ]
  },
  {
   "cell_type": "markdown",
   "metadata": {},
   "source": [
    "### 2.2.5 \n",
    "As we can see, we got KL that is not close to zero, meaning that the 2 distributions are not close. \n",
    "Anothe way to see it is by Showing that $Pr(NNP | S \\to NP) \\neq Pr(NNP | VP \\to NP) \\neq Pr(NnP | * \\to NP)$\n",
    "$$ \\frac{2205}{9243} \\neq \\frac{407}{5950} \\neq \\frac{9256}{35004} $$ "
   ]
  },
  {
   "cell_type": "code",
   "execution_count": null,
   "metadata": {},
   "outputs": [],
   "source": []
  }
 ],
 "metadata": {
  "kernelspec": {
   "display_name": "Python 3",
   "language": "python",
   "name": "python3"
  },
  "language_info": {
   "codemirror_mode": {
    "name": "ipython",
    "version": 3
   },
   "file_extension": ".py",
   "mimetype": "text/x-python",
   "name": "python",
   "nbconvert_exporter": "python",
   "pygments_lexer": "ipython3",
   "version": "3.7.0"
  }
 },
 "nbformat": 4,
 "nbformat_minor": 2
}
